{
 "cells": [
  {
   "cell_type": "code",
   "execution_count": 1,
   "metadata": {},
   "outputs": [
    {
     "data": {
      "text/plain": [
       "'/System/Volumes/Data/srv/zatserkl/work/JupyterWork/git-dir'"
      ]
     },
     "execution_count": 1,
     "metadata": {},
     "output_type": "execute_result"
    }
   ],
   "source": [
    "pwd"
   ]
  },
  {
   "cell_type": "markdown",
   "metadata": {},
   "source": [
    "# Python code git-dir.py"
   ]
  },
  {
   "cell_type": "code",
   "execution_count": 7,
   "metadata": {},
   "outputs": [
    {
     "name": "stdout",
     "output_type": "stream",
     "text": [
      "Create/update directory: git-dir\n",
      "Update subdirectory: git-dir/01__first_branch\n",
      "Update subdirectory: git-dir/02__both_py_and_ipynb\n",
      "Update subdirectory: git-dir/03__separated_Create_Update\n",
      "Update subdirectory: git-dir/04__sync_with_Linux\n",
      "Update subdirectory: git-dir/main\n",
      "Done: Copied content of git branches into subdirectories of ./git-dir/\n"
     ]
    }
   ],
   "source": [
    "# #! /usr/bin/env/python\n",
    "\n",
    "# Andriy Zatserklyaniy <zatserkl@gmail.com> Dec 9, 2023\n",
    "\n",
    "import pathlib\n",
    "import subprocess\n",
    "from collections import defaultdict\n",
    "\n",
    "class GitDir:\n",
    "    \"\"\"\n",
    "    Creates a directory with subdirectory for each git branch and fills it with the branch content.\n",
    "    If the subdirectory already exists, just update the traking content.\n",
    "\n",
    "    Usage: run in the directory with .git repository e.g.\n",
    "    GitDir().copy_branches()\n",
    "    \"\"\"\n",
    "    def __init__(self, dir_top='git-dir'):\n",
    "        \"\"\"\n",
    "        dir-top: a directory to envelope branch subdirectories,\n",
    "                 default is git-dir\n",
    "        \"\"\"\n",
    "        self.dir_top = pathlib.Path(dir_top)\n",
    "        self.git_dir = pathlib.Path('.git')\n",
    "        self.cwd = pathlib.Path.cwd()\n",
    "\n",
    "        if self.git_dir.is_dir():\n",
    "            self.git_found = True\n",
    "            command = 'git for-each-ref --sort=committerdate refs/heads/ --format=\"%(refname:short)\"'\n",
    "            # print(f'command: {command}')\n",
    "            self.branches = subprocess.check_output(command, shell=True).decode('utf-8').strip().split()\n",
    "            # print(f'branches list: {self.branches}')\n",
    "        else:\n",
    "            self.git_found = False\n",
    "            print(f'\\nCannot find a git repository in the current dir {self.cwd}\\nStop\\n\\n')\n",
    "            return\n",
    "            # raise Exception(f'Directory .git was not found in the current directory {self.cwd}\\nStop.\\n\\n')\n",
    "\n",
    "    @staticmethod  # to include stand-along function mkdir into class namespace\n",
    "    def mkdir(dir):\n",
    "        try:\n",
    "            pathlib.Path(dir).mkdir(exist_ok=True, parents=True)\n",
    "        except FileExistsError as e:\n",
    "            print(f'***Error: name {dir} could be in use for the ordinary file\\n')\n",
    "            raise Exception(f'Cannot create/use directory {dir}: this name could be in use for ordinary file.\\n')\n",
    "\n",
    "    def copy_branches(self, noprefix=None, index_from=1):\n",
    "        \"\"\"\n",
    "        Creates an envelop folder with a directory for each git branch and copies there the branch content.\n",
    "        The directory name could be prefixed by an index to keep the directories sorted in the branch creation order.\n",
    "        Example of the prefixed branch:\n",
    "        01. my_first_branch\n",
    "\n",
    "        noprefix:   single name or list of names: branches to exclude from prefixing with index\n",
    "                    Asterisk * can be used as a wildcard for branch end, like rel*\n",
    "                    prefix='*' disables prefixing\n",
    "                    Default value (None) is equivalent to a list ['main', 'master']\n",
    "\n",
    "        index_from: start prefix from this number.\n",
    "        \"\"\"\n",
    "        if not self.git_found:\n",
    "            return\n",
    "        \n",
    "        # branch names to be excluded from prefixing\n",
    "        exclude_exact = []  # exact branch names\n",
    "        exclude_start = []  # branch names startswith\n",
    "\n",
    "        if type(noprefix) == type(''):\n",
    "            # noprefix is a str\n",
    "            iasterisk = noprefix.find('*')\n",
    "            if iasterisk < 0:\n",
    "                exclude_exact.append(noprefix)\n",
    "            else:\n",
    "                exclude_start.append(noprefix[:iasterisk])\n",
    "        elif type(noprefix) == type([]):\n",
    "            # noprefix is a list\n",
    "            for b in noprefix:\n",
    "                iasterisk = b.find('*')\n",
    "                if iasterisk < 0:\n",
    "                    exclude_exact.append(b)\n",
    "                else:\n",
    "                    exclude_start.append(b[:iasterisk])\n",
    "        else:\n",
    "            # default None (and any other type)\n",
    "            exclude_exact.extend(['main', 'master'])\n",
    "\n",
    "        print(f'Create/update directory: {self.dir_top}')\n",
    "        self.mkdir(self.dir_top)\n",
    "\n",
    "        ok = True\n",
    "        iprefix = index_from\n",
    "        for branch in self.branches:\n",
    "            # prefix for the directory name\n",
    "            prefix = f'{iprefix:0>2d}. '  # prefix like \"01. my_first_branch\"\n",
    "            if branch in exclude_exact:\n",
    "                prefix = ''\n",
    "            else:\n",
    "                for b in exclude_start:\n",
    "                    if branch.startswith(b):\n",
    "                        prefix = ''\n",
    "                        break\n",
    "        \n",
    "            branch_dir = self.dir_top / (prefix + branch)  # \"git-dir/01. my_first_branch\"\n",
    "\n",
    "            if prefix:\n",
    "                iprefix += 1\n",
    "\n",
    "            if branch_dir.is_dir():\n",
    "                print(f'Update subdirectory: {branch_dir}')\n",
    "            else:\n",
    "                print(f'Create subdirectory: {branch_dir}')\n",
    "                self.mkdir(branch_dir)\n",
    "            \n",
    "            command = f'git archive {branch} | tar x -C \"{branch_dir}\"'\n",
    "            # print(f'-- command: {command}')\n",
    "            res = subprocess.call(command, shell=True)\n",
    "            if res:\n",
    "                ok = False\n",
    "                print(f'  *** problem with copy files from branch {branch} -- res: {res}')\n",
    "\n",
    "        if ok:\n",
    "            print(f'Done: Copied content of git branches into subdirectories of ./{self.dir_top}/')\n",
    "        else:\n",
    "            print(f'There was a problem with copy of content of git branches into subdirectories of ./{self.dir_top}/')\n",
    "\n",
    "\n",
    "if __name__ == '__main__':\n",
    "    # GitDir().copy_branches()\n",
    "    GitDir().copy_branches(noprefix='*')"
   ]
  },
  {
   "cell_type": "code",
   "execution_count": null,
   "metadata": {},
   "outputs": [],
   "source": []
  }
 ],
 "metadata": {
  "kernelspec": {
   "display_name": "base",
   "language": "python",
   "name": "python3"
  },
  "language_info": {
   "codemirror_mode": {
    "name": "ipython",
    "version": 3
   },
   "file_extension": ".py",
   "mimetype": "text/x-python",
   "name": "python",
   "nbconvert_exporter": "python",
   "pygments_lexer": "ipython3",
   "version": "3.11.6"
  }
 },
 "nbformat": 4,
 "nbformat_minor": 2
}
