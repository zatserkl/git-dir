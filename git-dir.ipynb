{
 "cells": [
  {
   "cell_type": "code",
   "execution_count": 1,
   "metadata": {},
   "outputs": [
    {
     "data": {
      "text/plain": [
       "'/System/Volumes/Data/srv/zatserkl/work/JupyterWork/git-dir'"
      ]
     },
     "execution_count": 1,
     "metadata": {},
     "output_type": "execute_result"
    }
   ],
   "source": [
    "pwd"
   ]
  },
  {
   "cell_type": "markdown",
   "metadata": {},
   "source": [
    "# Python code git-dir.py"
   ]
  },
  {
   "cell_type": "code",
   "execution_count": 2,
   "metadata": {},
   "outputs": [
    {
     "name": "stdout",
     "output_type": "stream",
     "text": [
      "Create/update directory: git-dir\n",
      "Create/update subdirectory: git-dir/01. 01__first_branch\n",
      "Create/update subdirectory: git-dir/main\n",
      "Done: Copied content of git branches into subdirectories of ./git-dir/\n"
     ]
    }
   ],
   "source": [
    "# #! /usr/bin/env/python\n",
    "\n",
    "# Andriy Zatserklyaniy <zatserkl@gmail.com> Dec 9, 2023\n",
    "\n",
    "import pathlib\n",
    "import subprocess\n",
    "from collections import defaultdict\n",
    "\n",
    "class GitDir:\n",
    "    \"\"\"\n",
    "    Creates a directory with subdirectory for each git branch and fills\n",
    "    them with the branch content.\n",
    "\n",
    "    Usage: run in the directory with .git repository e.g.\n",
    "    GitDir().copy_branches()\n",
    "    \"\"\"\n",
    "    def __init__(self, dir_top='git-dir', branch_noprefix=None):\n",
    "        \"\"\"\n",
    "        dir-top: a directory to envelope branch subdirectories,\n",
    "                 default is git-dir\n",
    "\n",
    "        branch_noprefix: a single name or a list of names: branches to exclude\n",
    "                         from prefixing with index\n",
    "                         '*' disables prefixing\n",
    "                         Default is ['main', 'master']\n",
    "        \"\"\"\n",
    "        self.dir_top = pathlib.Path(dir_top)\n",
    "        self.git_dir = pathlib.Path('.git')\n",
    "        self.cwd = pathlib.Path.cwd()\n",
    "\n",
    "        if type(branch_noprefix) == type(''):\n",
    "            self.branch_noprefix = [branch_noprefix]\n",
    "        elif type(branch_noprefix) == type([]):\n",
    "            self.branch_noprefix = branch_noprefix[:]\n",
    "        else:\n",
    "            self.branch_noprefix = ['main', 'master']\n",
    "\n",
    "        if self.git_dir.is_dir():\n",
    "            self.git_found = True\n",
    "\n",
    "            command = 'git branch'  # local branches only\n",
    "\n",
    "            self.branches = subprocess.check_output(command, shell=True)\n",
    "            self.branches = self.branches.decode('utf-8').strip().split()\n",
    "\n",
    "            # remove asterisk string '*': a marker for the current branch\n",
    "            # print(f'branches list with \"*\": {self.branches}')\n",
    "            self.branches.remove('*')\n",
    "            # print(f'branches: {self.branches}')\n",
    "\n",
    "            self.branch_files = defaultdict(list)\n",
    "            for branch in self.branches:\n",
    "                command = f'git ls-tree -r --name-only {branch}'\n",
    "                file_list = subprocess.check_output(command, shell=True)\n",
    "                file_list = file_list.decode('utf-8').strip().split()\n",
    "                self.branch_files[branch] = file_list\n",
    "                # print(f'{branch} -- {self.branch_files[branch]}')\n",
    "        else:\n",
    "            self.git_found = False\n",
    "            print(f'\\nCannot find a git repository in the current dir {self.cwd}')\n",
    "            print('Stop\\n\\n')\n",
    "            return\n",
    "            # raise Exception(f'Directory .git was not found in the current directory {self.cwd}\\nStop.\\n\\n')\n",
    "\n",
    "    @staticmethod  # just to namespace mkdir\n",
    "    def mkdir(dir):\n",
    "        try:\n",
    "            pathlib.Path(dir).mkdir(exist_ok=True, parents=True)\n",
    "        except FileExistsError as e:\n",
    "            print(f'***Error: name {dir} is in use for the ordinary file\\n')\n",
    "            raise Exception(f'Cannot create/use directory {dir}: this name is in use for ordinary file.\\n')\n",
    "\n",
    "    def copy_branches(self, index_from=1):\n",
    "        \"\"\"\n",
    "        Creates the envelop directory with a directory for each branch\n",
    "        and copies there the branch content.\n",
    "        The directory name is prefixed by an index to keep the directories\n",
    "        sorted in the branch creation order.\n",
    "        The branches listed in the self.branch_noprefix will not have a prefix.\n",
    "        Example of the prefixed branch:\n",
    "        01. my_first_branch\n",
    "\n",
    "        index_from: start prefix from this number.\n",
    "        \"\"\"\n",
    "        if not self.git_found:\n",
    "            return\n",
    "\n",
    "        print(f'Create/update directory: {self.dir_top}')\n",
    "        self.mkdir(self.dir_top)\n",
    "\n",
    "        ok = True\n",
    "        for i, branch in enumerate(self.branches):\n",
    "            # prefix branch's directory name by index\n",
    "            branch_index = i + index_from\n",
    "            branch_dir = self.dir_top / f'{branch_index:0>2d}. {branch}'\n",
    "            if branch in self.branch_noprefix or self.branch_noprefix == '*':\n",
    "                branch_dir = self.dir_top / branch\n",
    "\n",
    "            if branch_dir.is_dir():\n",
    "                print(f'Update subdirectory: {branch_dir}')\n",
    "            else:\n",
    "                print(f'Create subdirectory: {branch_dir}')\n",
    "                self.mkdir(f'{branch_dir}')\n",
    "\n",
    "            command = f'git archive {branch} | tar x -C \\'{branch_dir}\\''\n",
    "            res = subprocess.call(command, shell=True)\n",
    "            if res:\n",
    "                ok = False\n",
    "                print(f'  *** problem with copy files from branch {branch} -- res: {res}')\n",
    "\n",
    "        if ok:\n",
    "            print(f'Done: Copied content of git branches into subdirectories of ./{self.dir_top}/')\n",
    "        else:\n",
    "            print(f'There was a problem with copy of content of git branches into subdirectories of ./{self.dir_top}/')\n",
    "\n",
    "\n",
    "if __name__ == '__main__':\n",
    "    GitDir().copy_branches()\n"
   ]
  },
  {
   "cell_type": "code",
   "execution_count": null,
   "metadata": {},
   "outputs": [],
   "source": []
  }
 ],
 "metadata": {
  "kernelspec": {
   "display_name": "base",
   "language": "python",
   "name": "python3"
  },
  "language_info": {
   "codemirror_mode": {
    "name": "ipython",
    "version": 3
   },
   "file_extension": ".py",
   "mimetype": "text/x-python",
   "name": "python",
   "nbconvert_exporter": "python",
   "pygments_lexer": "ipython3",
   "version": "3.11.6"
  }
 },
 "nbformat": 4,
 "nbformat_minor": 2
}
